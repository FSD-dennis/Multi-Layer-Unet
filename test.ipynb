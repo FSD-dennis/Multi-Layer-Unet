{
 "cells": [
  {
   "cell_type": "code",
   "execution_count": 1,
   "metadata": {},
   "outputs": [],
   "source": [
    "%reset -f"
   ]
  },
  {
   "cell_type": "code",
   "execution_count": 2,
   "metadata": {},
   "outputs": [
    {
     "name": "stdout",
     "output_type": "stream",
     "text": [
      "device is cuda\n"
     ]
    },
    {
     "data": {
      "text/plain": [
       "['label', 'test', 'train']"
      ]
     },
     "execution_count": 2,
     "metadata": {},
     "output_type": "execute_result"
    }
   ],
   "source": [
    "import pacKage\n",
    "import loaddata\n",
    "import uNet\n",
    "from pacKage import *\n",
    "from uNet import *\n",
    "from loaddata import *\n",
    "rootPath = os.getcwd()\n",
    "dataPath = os.path.join(rootPath,\"data\")\n",
    "modelPath = os.path.join(rootPath,\"model\")\n",
    "submitPath = os.path.join(rootPath,\"submission\")\n",
    "if not os.path.exists(dataPath):\n",
    "    os.makedirs(dataPath)\n",
    "if not os.path.exists(modelPath):\n",
    "    os.makedirs(modelPath)\n",
    "if not os.path.exists(submitPath):\n",
    "    os.makedirs(submitPath)\n",
    "os.listdir(dataPath)"
   ]
  },
  {
   "cell_type": "markdown",
   "metadata": {},
   "source": [
    "- load the dataset"
   ]
  },
  {
   "cell_type": "code",
   "execution_count": 4,
   "metadata": {},
   "outputs": [],
   "source": [
    "test_dir  = os.path.join(dataPath, \"test\")"
   ]
  },
  {
   "cell_type": "code",
   "execution_count": 5,
   "metadata": {},
   "outputs": [],
   "source": [
    "test_ince_rgb_dl_temp    =     TestDataset(test_dir = test_dir)\n",
    "test_ince_rgb_dl         =     DataLoader(test_ince_rgb_dl_temp, batch_size = 8)"
   ]
  },
  {
   "cell_type": "markdown",
   "metadata": {},
   "source": [
    "- load the model"
   ]
  },
  {
   "cell_type": "code",
   "execution_count": 6,
   "metadata": {},
   "outputs": [
    {
     "data": {
      "text/plain": [
       "<All keys matched successfully>"
      ]
     },
     "execution_count": 6,
     "metadata": {},
     "output_type": "execute_result"
    }
   ],
   "source": [
    "incemodel = UShapeNet(4).to(device=device)  # Make sure to instantiate the model class first\n",
    "incemodel.load_state_dict(torch.load(os.path.join(modelPath, \"ince_model_params.pth\")))\n",
    "rgbmodel = UShapeNet(3).to(device=device)\n",
    "rgbmodel.load_state_dict(torch.load(os.path.join(modelPath, \"rgb_model_params.pth\")))"
   ]
  },
  {
   "cell_type": "code",
   "execution_count": 24,
   "metadata": {},
   "outputs": [
    {
     "name": "stdout",
     "output_type": "stream",
     "text": [
      "('AA408972_satellite.tif', 'AA804258_satellite.tif', 'AB121622_satellite.tif', 'AB144957_satellite.tif', 'AB363647_satellite.tif', 'AB455766_satellite.tif', 'AC615524_satellite.tif', 'AC799254_satellite.tif')\n",
      "<class 'tuple'>\n",
      "('AD373903_satellite.tif', 'AD551860_satellite.tif')\n",
      "<class 'tuple'>\n"
     ]
    }
   ],
   "source": [
    "for index, batch in enumerate(iter(test_ince_rgb_dl)):\n",
    "    ince, rgb, name = batch\n",
    "    ince_perdiction, rgb_prediction = incemodel(ince).argmax(1), rgbmodel(rgb).argmax(1)\n",
    "    prediction = ince_perdiction + rgb_prediction\n",
    "    binary_prediction = (prediction == 2)\n",
    "    \n",
    "    binary_prediction = binary_prediction.int().detach().cpu().numpy()\n",
    "    for i in range(prediction.shape[0]):\n",
    "        tiff.tifffile.imwrite(os.path.join(submitPath , name[i]), binary_prediction)"
   ]
  },
  {
   "cell_type": "markdown",
   "metadata": {},
   "source": [
    "- create the model to deal with our binary output in the shappe of (350, 350, 2) each from our incemodel and rgbmodel!!!"
   ]
  }
 ],
 "metadata": {
  "kernelspec": {
   "display_name": "torchcv",
   "language": "python",
   "name": "python3"
  },
  "language_info": {
   "codemirror_mode": {
    "name": "ipython",
    "version": 3
   },
   "file_extension": ".py",
   "mimetype": "text/x-python",
   "name": "python",
   "nbconvert_exporter": "python",
   "pygments_lexer": "ipython3",
   "version": "3.9.18"
  }
 },
 "nbformat": 4,
 "nbformat_minor": 2
}
